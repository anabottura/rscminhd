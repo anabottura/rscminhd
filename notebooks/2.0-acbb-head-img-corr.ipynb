{
 "cells": [
  {
   "cell_type": "code",
   "execution_count": null,
   "metadata": {},
   "outputs": [],
   "source": [
    "import sys\n",
    "import os\n",
    "import seaborn as sns\n",
    "sys.path.append(\"../\")\n",
    "from src.data.session import load_all_data, to_dF_F\n",
    "from scipy.spatial.transform import Rotation\n",
    "import numpy as np\n",
    "import pandas as pd\n",
    "import matplotlib.pyplot as plt"
   ]
  },
  {
   "cell_type": "code",
   "execution_count": null,
   "metadata": {},
   "outputs": [],
   "source": [
    "%load_ext autoreload\n",
    "%autoreload 2"
   ]
  },
  {
   "attachments": {},
   "cell_type": "markdown",
   "metadata": {},
   "source": [
    "## Load Data"
   ]
  },
  {
   "cell_type": "code",
   "execution_count": null,
   "metadata": {},
   "outputs": [],
   "source": [
    "project_dir = \"/Users/anacarolinabotturabarros/PycharmProjects/RSCMINHD/\"\n",
    "animal = 'cohoHDC1_mB1'\n",
    "session = \"2023_03_10/12_51_18\"\n",
    "data_dict = load_all_data(animal,session, project_dir)\n",
    "img_data = data_dict['img_data']\n",
    "head_data = data_dict['head_data']\n",
    "img_time_stamps = data_dict['img_time_stamps']"
   ]
  },
  {
   "attachments": {},
   "cell_type": "markdown",
   "metadata": {},
   "source": [
    "### Calculate dF/F and normalised calcium traces\n",
    "\n",
    "Still need to figure out what is the best measure to use."
   ]
  },
  {
   "cell_type": "code",
   "execution_count": null,
   "metadata": {},
   "outputs": [],
   "source": [
    "group_by_unit = img_data.groupby('unit_id')\n",
    "df_units = []\n",
    "normalised_c = []\n",
    "for name, unit in group_by_unit:\n",
    "    dFF = to_dF_F(unit)\n",
    "    dFF.name = name\n",
    "    df_units.append(dFF)\n",
    "    min_C = unit['C'].min()\n",
    "    max_C = unit['C'].max()\n",
    "    min_max_norm = (unit['C']- min_C)/(max_C-min_C)\n",
    "    normalised_c.append(min_max_norm)\n",
    "    \n",
    "\n",
    "# pd.concat(df_units, ignore_index=True, axis=1)\n",
    "img_data['df/f'] = pd.concat(df_units)\n",
    "img_data['norm_C'] = pd.concat(normalised_c)"
   ]
  },
  {
   "attachments": {},
   "cell_type": "markdown",
   "metadata": {},
   "source": [
    "## Plot a unit\n",
    "\n",
    "Plotting some units might give some idea of what we have"
   ]
  },
  {
   "cell_type": "code",
   "execution_count": null,
   "metadata": {},
   "outputs": [],
   "source": [
    "# TODO: Plot all units\n",
    "unit = 2\n",
    "\n",
    "# plot C\n",
    "plt.figure(figsize=(10,2))\n",
    "unit_data = img_data[img_data['unit_id']==img_data['unit_id'].unique()[unit]]\n",
    "sns.lineplot(data=unit_data, x='frame',y='C')\n",
    "\n",
    "# plot df/f based on C\n",
    "plt.figure(figsize=(10,2))\n",
    "unit_data = img_data[img_data['unit_id']==img_data['unit_id'].unique()[unit]]\n",
    "sns.lineplot(data=unit_data, x='frame',y='df/f')\n",
    "\n",
    "# plot C normalised by min-max normalisation\n",
    "plt.figure(figsize=(10,2))\n",
    "unit_data = img_data[img_data['unit_id']==img_data['unit_id'].unique()[unit]]\n",
    "sns.lineplot(data=unit_data, x='frame',y='norm_C')"
   ]
  },
  {
   "attachments": {},
   "cell_type": "markdown",
   "metadata": {},
   "source": [
    "## Working with head orientation data"
   ]
  },
  {
   "cell_type": "code",
   "execution_count": null,
   "metadata": {},
   "outputs": [],
   "source": [
    "# plot variable from head orientation data\n",
    "ax = sns.lineplot(data=head_data, x='Time Stamp (ms)',y='qx')\n",
    "sns.lineplot(data=head_data, x='Time Stamp (ms)',y='qy')\n",
    "sns.lineplot(data=head_data, x='Time Stamp (ms)',y='qz')\n",
    "ax.set(ylabel='Direction')"
   ]
  },
  {
   "attachments": {},
   "cell_type": "markdown",
   "metadata": {},
   "source": [
    "Here we try to bin the different variables into a certain number of bins"
   ]
  },
  {
   "cell_type": "code",
   "execution_count": null,
   "metadata": {},
   "outputs": [],
   "source": [
    "bins = 11\n",
    "head_data['binned_qx'] = pd.cut(head_data['qx'],np.linspace(-1,1,bins))\n",
    "head_data['binned_qy'] = pd.cut(head_data['qy'],np.linspace(-1,1,bins))\n",
    "head_data['binned_qz'] = pd.cut(head_data['qz'],np.linspace(-1,1,bins))\n",
    "head_data['binned_qw'] = pd.cut(head_data['qw'],np.linspace(-1,1,bins))"
   ]
  },
  {
   "attachments": {},
   "cell_type": "markdown",
   "metadata": {},
   "source": [
    "Here we plot the the count of occurences per bin for each of the variables"
   ]
  },
  {
   "cell_type": "code",
   "execution_count": null,
   "metadata": {},
   "outputs": [],
   "source": [
    "\n",
    "fig, axs = plt.subplots(1,4, sharey=True, figsize=(20,5))\n",
    "head_qua_vars = head_data.columns[1:]\n",
    "\n",
    "for ax,var in zip(axs,head_qua_vars):\n",
    "    p = sns.countplot(x=head_data['binned_'+var], ax=ax)\n",
    "    ax.set_xticklabels(head_data['binned_qx'].cat.categories, rotation=45, ha='right')\n",
    "    ax.set(ylabel=None)\n",
    "\n",
    "axs[0].set_ylabel('Count')"
   ]
  },
  {
   "attachments": {},
   "cell_type": "markdown",
   "metadata": {},
   "source": [
    "### Transform quartenion data into Euler coordinates"
   ]
  },
  {
   "attachments": {},
   "cell_type": "markdown",
   "metadata": {},
   "source": [
    "Two ways of calculating the euler angles. One function (adapted to deal with long format data) or the scipy Rotation function."
   ]
  },
  {
   "cell_type": "code",
   "execution_count": null,
   "metadata": {},
   "outputs": [],
   "source": [
    "import math\n",
    " \n",
    "def euler_from_quaternion(x, y, z, w):\n",
    "        \"\"\"\n",
    "        Convert a quaternion into euler angles (roll, pitch, yaw)\n",
    "        roll is rotation around x in radians (counterclockwise)\n",
    "        pitch is rotation around y in radians (counterclockwise)\n",
    "        yaw is rotation around z in radians (counterclockwise)\n",
    "        \"\"\"\n",
    "        t0 = +2.0 * (w * x + y * z)\n",
    "        t1 = +1.0 - 2.0 * (x * x + y * y)\n",
    "        roll_x = [math.atan2(i0, i1) for i0, i1 in zip(t0,t1)]\n",
    "     \n",
    "        t2 = +2.0 * (w * y - z * x)\n",
    "        t2 = [+1.0 if i2 > +1.0 else i2 for i2 in t2]\n",
    "        t2 = [-1.0 if i2 < -1.0 else i2 for i2 in t2]\n",
    "        pitch_y = [math.asin(i2) for i2 in t2]\n",
    "     \n",
    "        t3 = +2.0 * (w * z + x * y)\n",
    "        t4 = +1.0 - 2.0 * (y * y + z * z)\n",
    "        yaw_z = [math.atan2(i3, i4) for i3, i4 in zip(t3, t4)]\n",
    "     \n",
    "        return roll_x, pitch_y, yaw_z # in radians"
   ]
  },
  {
   "cell_type": "code",
   "execution_count": null,
   "metadata": {},
   "outputs": [],
   "source": [
    "x, y, z = euler_from_quaternion(head_data['qx'], head_data['qy'], head_data['qz'], head_data['qw'])\n",
    "print(x[0],y[0],z[0])"
   ]
  },
  {
   "cell_type": "code",
   "execution_count": null,
   "metadata": {},
   "outputs": [],
   "source": [
    "quat = np.array([head_data['qx'], head_data['qy'], head_data['qz'], head_data['qw']])\n",
    "R = Rotation.from_quat(quat.T)\n",
    "quat.T.shape\n",
    "print(quat.T[0])\n",
    "print(R.as_quat()[0])\n",
    "euler_data = R.as_euler('xyz', degrees=True)\n",
    "print(R.as_euler('xyz')[0])"
   ]
  },
  {
   "attachments": {},
   "cell_type": "markdown",
   "metadata": {},
   "source": [
    "Combining euler data to original head orientation data and saving it"
   ]
  },
  {
   "cell_type": "code",
   "execution_count": null,
   "metadata": {},
   "outputs": [],
   "source": [
    "head_data = pd.concat([head_data, pd.DataFrame(euler_data, columns=['roll_x', 'pitch_y', 'yaw_z'])], axis=1)"
   ]
  },
  {
   "cell_type": "code",
   "execution_count": null,
   "metadata": {},
   "outputs": [],
   "source": [
    "# bin euler variables\n",
    "bins = 61\n",
    "head_data['binned_roll_x'] = pd.cut(head_data['roll_x'],np.linspace(-180,180,bins))\n",
    "head_data['binned_pitch_y'] = pd.cut(head_data['pitch_y'],np.linspace(-90,90,bins))\n",
    "head_data['binned_yaw_z'] = pd.cut(head_data['yaw_z'],np.linspace(-180,180,bins))"
   ]
  },
  {
   "cell_type": "code",
   "execution_count": null,
   "metadata": {},
   "outputs": [],
   "source": [
    "head_data['frame'] = head_data.index\n",
    "head_data.to_csv(os.path.join(project_dir,'data/processed', animal, session,'headOrientationProc.csv'))"
   ]
  },
  {
   "attachments": {},
   "cell_type": "markdown",
   "metadata": {},
   "source": [
    "## Finding intervals for the different bins"
   ]
  },
  {
   "cell_type": "code",
   "execution_count": null,
   "metadata": {},
   "outputs": [],
   "source": [
    "import itertools\n",
    "from operator import itemgetter\n",
    "\n",
    "def find_intervals(data):\n",
    "    ranges =[]    \n",
    "    for key, group in itertools.groupby(enumerate(data), lambda x:x[0]-x[1]):\n",
    "        group = list(map(itemgetter(1), group))\n",
    "        if len(group) > 1:\n",
    "            ranges.append(pd.Interval(group[0], group[-1],closed='both'))\n",
    "        # else:\n",
    "            # ranges.append(group[0])\n",
    "    return ranges\n",
    "\n",
    "def get_intervals(head_data, variable):\n",
    "    \"\"\"get frame intervals where angles are within the specified bin\n",
    "\n",
    "    :param head_data: head orientation data\n",
    "    :type head_data: pd.DataFrame\n",
    "    :param variable: name of the variable in head_data to base intervals\n",
    "    :type variable: str\n",
    "    :return: intervals of frames with angles between specific groups\n",
    "    :rtype: dict\n",
    "    \"\"\"\n",
    "    grouped = head_data[[variable,'frame']].groupby(variable)\n",
    "    intervals = {}\n",
    "    for name, group in grouped:\n",
    "        intervals[name] = find_intervals(group['frame'])\n",
    "    return intervals\n",
    "     "
   ]
  },
  {
   "cell_type": "code",
   "execution_count": null,
   "metadata": {},
   "outputs": [],
   "source": [
    "# Find intervals for one of the quartenion variables\n",
    "intervals = get_intervals(head_data,'binned_qx')\n",
    "\n",
    "# Find intervals for yaw_z, one of the Euler variables\n",
    "intervals_yaw = get_intervals(head_data,'binned_yaw_z')\n"
   ]
  },
  {
   "attachments": {},
   "cell_type": "markdown",
   "metadata": {},
   "source": [
    "## Calculate the area under the curve for all intervals per bin and per unit "
   ]
  },
  {
   "cell_type": "code",
   "execution_count": null,
   "metadata": {},
   "outputs": [],
   "source": [
    "def calculate_auc(unit_data, intervals):\n",
    "    # calculate the area under the curve norm_C for each unit between intervals found and sum the area under the curve\n",
    "    \"\"\"_summary_\n",
    "\n",
    "    :param unit_data: _description_\n",
    "    :type unit_data: _type_\n",
    "    :param intervals: _description_\n",
    "    :type intervals: _type_\n",
    "    :return: _description_\n",
    "    :rtype: _type_\n",
    "    \"\"\"\n",
    "    \n",
    "    all_auc = pd.DataFrame()\n",
    "\n",
    "    for key, value in intervals.items():\n",
    "        auc_dict = {}\n",
    "        for name, unit in unit_data:\n",
    "            auc=0\n",
    "            for i in value:\n",
    "                img_interval = unit[unit['frame'].between(i.left, i.right)]\n",
    "                auc += np.trapz(img_interval['norm_C'],img_interval['frame'])\n",
    "            auc_dict[name] = auc\n",
    "        all_auc[key] = pd.Series(auc_dict)\n",
    "    \n",
    "    return all_auc\n",
    "\n",
    "def calculate_int_length(intervals):\n",
    "    \"\"\"Calculate the length of the intervals for a dictionary of intervals and return the total sum of the lengths for a range of angles.\n",
    "\n",
    "    :param intervals: Dictionary of intervals\n",
    "    :type intervals: dict\n",
    "    :return: dictionary of total sum of lengths\n",
    "    :rtype: dict\n",
    "    \"\"\"\n",
    "    interval_lengths = {}\n",
    "    for itv in intervals.keys():\n",
    "        int_idx = pd.IntervalIndex(intervals[itv])\n",
    "        total_time = np.sum(int_idx.right - int_idx.left +1)\n",
    "        interval_lengths[itv] = total_time\n",
    "    return interval_lengths"
   ]
  },
  {
   "cell_type": "code",
   "execution_count": null,
   "metadata": {},
   "outputs": [],
   "source": [
    "# calculate the area under the curve norm_C for each unit between intervals found\n",
    "# TODO: make this a function - get direction tunning\n",
    "all_auc = calculate_auc(img_data.groupby('unit_id'), intervals)\n",
    "# print(all_auc.head())\n",
    "interval_lengths = calculate_int_length(intervals)\n",
    "interval_lengths = pd.Series(interval_lengths, name='interval_lengths')\n",
    "dir_tuning = all_auc.T.div(interval_lengths, axis=0).T # normalise it by diving by the total amount of time spent looking at that direction"
   ]
  },
  {
   "cell_type": "code",
   "execution_count": null,
   "metadata": {},
   "outputs": [],
   "source": [
    "# for intervals based on yaw - Here we use Yaw as that seems to correspond to the angle that would give you the haed direction - but maybe that should be properly checked (comparing with actual data?)\n",
    "all_auc_yaw = calculate_auc(img_data.groupby('unit_id'), intervals_yaw)\n",
    "# print(all_auc_yaw.head())\n",
    "interval_yaw_lengths = calculate_int_length(intervals_yaw)\n",
    "interval_yaw_lengths = pd.Series(interval_yaw_lengths, name='interval_lengths')\n",
    "dir_tuning_yaw = all_auc_yaw.T.div(interval_yaw_lengths, axis=0).T"
   ]
  },
  {
   "cell_type": "code",
   "execution_count": null,
   "metadata": {},
   "outputs": [],
   "source": [
    "dir_tuning"
   ]
  },
  {
   "attachments": {},
   "cell_type": "markdown",
   "metadata": {},
   "source": [
    "## Visualise direction tuning"
   ]
  },
  {
   "cell_type": "code",
   "execution_count": null,
   "metadata": {},
   "outputs": [],
   "source": [
    "# TODO: make this a function for plotting a single ROI, with options (radial, linear)\n",
    "dir_tuning_yaw['unit_id']=dir_tuning_yaw.index\n",
    "new_melt = pd.melt(dir_tuning_yaw, id_vars='unit_id')\n",
    "\n",
    "unit = 90\n",
    "plot_unit = new_melt[new_melt.unit_id == new_melt.unit_id.unique()[unit]]\n",
    "ax = sns.lineplot(plot_unit, x=plot_unit.variable.astype(str), y='value')\n",
    "ax.set_xticklabels(plot_unit.variable.astype(str), rotation=45, ha='right')\n",
    "ax.set(ylabel='Direction Tunning',xlabel='Direction qx')"
   ]
  },
  {
   "cell_type": "code",
   "execution_count": null,
   "metadata": {},
   "outputs": [],
   "source": [
    "plot_unit.loc[:,'degree'] = pd.IntervalIndex(plot_unit['variable']).left*np.pi/180\n",
    "g = sns.FacetGrid(plot_unit, subplot_kws=dict(projection='polar'), height=4.5, sharex=False, sharey=False, despine=False)\n",
    "g.map(sns.lineplot,\"degree\",\"value\")"
   ]
  },
  {
   "cell_type": "code",
   "execution_count": null,
   "metadata": {},
   "outputs": [],
   "source": [
    "new_melt.loc[:,'degree'] = pd.IntervalIndex(new_melt['variable']).left*np.pi/180\n",
    "g = sns.FacetGrid(new_melt, hue='unit_id',subplot_kws=dict(projection='polar'), height=4.5, sharex=False, sharey=False, despine=False)\n",
    "g.map(sns.lineplot,\"degree\",\"value\")"
   ]
  },
  {
   "cell_type": "code",
   "execution_count": null,
   "metadata": {},
   "outputs": [],
   "source": [
    "# TODO: make this a function - plot all ROIs\n",
    "new_melt.loc[:,'degree'] = pd.IntervalIndex(new_melt['variable']).left*np.pi/180\n",
    "g = sns.FacetGrid(new_melt, col='unit_id', col_wrap=10,hue='unit_id',subplot_kws=dict(projection='polar'), height=4.5, sharex=False, sharey=False, despine=False)\n",
    "g.map(sns.lineplot,\"degree\",\"value\")\n"
   ]
  },
  {
   "cell_type": "code",
   "execution_count": null,
   "metadata": {},
   "outputs": [],
   "source": [
    "g.savefig(os.path.join(project_dir,\"reports/figures\",animal,session,\"all_ROIs.png\")) # TODO: setup to create folder if it doesn't exist"
   ]
  },
  {
   "cell_type": "code",
   "execution_count": null,
   "metadata": {},
   "outputs": [],
   "source": [
    "df=dir_tuning_yaw.iloc[:,:-1].T\n",
    "pref_dir = df.idxmax()\n",
    "order = pref_dir.sort_values().index\n",
    "ax = sns.heatmap(df.T.loc[order.to_list(),:])\n",
    "ax.set_xticklabels(plot_unit.variable.astype(str), rotation=45, ha='right')\n",
    "ax.set(ylabel='Units', xlabel='Direction')"
   ]
  },
  {
   "cell_type": "code",
   "execution_count": null,
   "metadata": {},
   "outputs": [],
   "source": [
    "df=dir_tuning_yaw.iloc[:,:-1].T\n",
    "pref_dir = df.idxmax()\n",
    "pref_dir.value_counts()\n",
    "ax = sns.countplot(x=pref_dir.values, order=df.index)\n",
    "t = ax.set_xticklabels(df.index, rotation=45, ha='right')"
   ]
  },
  {
   "attachments": {},
   "cell_type": "markdown",
   "metadata": {},
   "source": [
    "## Checking direction tunning on first and second halves"
   ]
  },
  {
   "cell_type": "code",
   "execution_count": null,
   "metadata": {},
   "outputs": [],
   "source": [
    "half = int(head_data.shape[0]/2)\n",
    "intervals_yaw_1of2 = get_intervals(head_data.loc[:half-1,:],'binned_yaw_z')\n",
    "intervals_yaw_2of2 = get_intervals(head_data.loc[half:,:],'binned_yaw_z')"
   ]
  },
  {
   "cell_type": "code",
   "execution_count": null,
   "metadata": {},
   "outputs": [],
   "source": [
    "# for intervals based on yaw - Here we use Yaw as that seems to correspond to the angle that would give you the haed direction - but maybe that should be properly checked (comparing with actual data?)\n",
    "all_auc_yaw_1of2 = calculate_auc(img_data[img_data.frame < half].groupby('unit_id'), intervals_yaw_1of2)\n",
    "# print(all_auc_yaw.head())\n",
    "interval_yaw_lengths_1of2 = calculate_int_length(intervals_yaw_1of2)\n",
    "interval_yaw_lengths_1of2 = pd.Series(interval_yaw_lengths_1of2, name='interval_lengths')\n",
    "dir_tuning_yaw_1of2 = all_auc_yaw_1of2.T.div(interval_yaw_lengths_1of2, axis=0).T"
   ]
  },
  {
   "cell_type": "code",
   "execution_count": null,
   "metadata": {},
   "outputs": [],
   "source": [
    "# for intervals based on yaw - Here we use Yaw as that seems to correspond to the angle that would give you the haed direction - but maybe that should be properly checked (comparing with actual data?)\n",
    "all_auc_yaw_2of2 = calculate_auc(img_data[img_data.frame >= half].groupby('unit_id'), intervals_yaw_2of2)\n",
    "# print(all_auc_yaw.head())\n",
    "interval_yaw_lengths_2of2 = calculate_int_length(intervals_yaw_2of2)\n",
    "interval_yaw_lengths_2of2 = pd.Series(interval_yaw_lengths_2of2, name='interval_lengths')\n",
    "dir_tuning_yaw_2of2 = all_auc_yaw_2of2.T.div(interval_yaw_lengths_2of2, axis=0).T"
   ]
  },
  {
   "cell_type": "code",
   "execution_count": null,
   "metadata": {},
   "outputs": [],
   "source": [
    "dir_tuning_yaw_1of2['unit_id']=dir_tuning_yaw_1of2.index\n",
    "new_melt_1of2 = pd.melt(dir_tuning_yaw_1of2, id_vars='unit_id')\n",
    "new_melt_1of2.loc[:,'half'] = 1\n",
    "\n",
    "dir_tuning_yaw_2of2['unit_id']=dir_tuning_yaw_2of2.index\n",
    "new_melt_2of2 = pd.melt(dir_tuning_yaw_2of2, id_vars='unit_id')\n",
    "new_melt_2of2.loc[:,'half'] = 2\n",
    "\n",
    "df2plot = pd.concat([new_melt_1of2,new_melt_2of2])\n",
    "df2plot.loc[:,'degree'] = pd.IntervalIndex(df2plot['variable']).left*np.pi/180\n",
    "\n",
    "g = sns.FacetGrid(df2plot, col='unit_id', col_wrap=10,hue='half',subplot_kws=dict(projection='polar'), height=4.5, sharex=False, sharey=False, despine=False)\n",
    "g.map(sns.lineplot,\"degree\",\"value\")\n",
    "g.add_legend(loc='lower right', fontsize = 32)\n"
   ]
  },
  {
   "cell_type": "code",
   "execution_count": null,
   "metadata": {},
   "outputs": [],
   "source": [
    "g.savefig(os.path.join(project_dir,\"reports/figures\",animal,session,\"all_ROIs_sessionHalves.png\"))"
   ]
  },
  {
   "attachments": {},
   "cell_type": "markdown",
   "metadata": {},
   "source": [
    "## Checking representation of direction bins on the first and second halves"
   ]
  },
  {
   "cell_type": "code",
   "execution_count": null,
   "metadata": {},
   "outputs": [],
   "source": [
    "int_lengths = pd.concat([interval_yaw_lengths_1of2, interval_yaw_lengths_2of2],axis=1)\n",
    "int_lengths.columns = ['first','second']\n",
    "int_lengths.loc[:,'direction'] = int_lengths.index"
   ]
  },
  {
   "cell_type": "code",
   "execution_count": null,
   "metadata": {},
   "outputs": [],
   "source": [
    "int_lengths_flat = pd.melt(int_lengths,id_vars='direction')\n",
    "int_lengths_flat\n",
    "sns.lineplot(int_lengths_flat,x=int_lengths_flat['direction'].astype(str),y=int_lengths_flat['value'],hue=int_lengths_flat['variable'])"
   ]
  },
  {
   "cell_type": "code",
   "execution_count": null,
   "metadata": {},
   "outputs": [],
   "source": [
    "sns.barplot(int_lengths)"
   ]
  },
  {
   "cell_type": "code",
   "execution_count": null,
   "metadata": {},
   "outputs": [],
   "source": []
  }
 ],
 "metadata": {
  "kernelspec": {
   "display_name": "rscminhd",
   "language": "python",
   "name": "python3"
  },
  "language_info": {
   "codemirror_mode": {
    "name": "ipython",
    "version": 3
   },
   "file_extension": ".py",
   "mimetype": "text/x-python",
   "name": "python",
   "nbconvert_exporter": "python",
   "pygments_lexer": "ipython3",
   "version": "3.10.9"
  },
  "orig_nbformat": 4
 },
 "nbformat": 4,
 "nbformat_minor": 2
}
